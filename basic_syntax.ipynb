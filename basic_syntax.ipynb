{
 "cells": [
  {
   "cell_type": "markdown",
   "metadata": {},
   "source": [
    "## Tensorflow Basic"
   ]
  },
  {
   "cell_type": "code",
   "execution_count": 5,
   "metadata": {
    "collapsed": true
   },
   "outputs": [],
   "source": [
    "#importing tensorflow\n",
    "import tensorflow as tf"
   ]
  },
  {
   "cell_type": "code",
   "execution_count": 2,
   "metadata": {},
   "outputs": [
    {
     "name": "stdout",
     "output_type": "stream",
     "text": [
      "1.3.0\n"
     ]
    }
   ],
   "source": [
    "print(tf.__version__)"
   ]
  },
  {
   "cell_type": "code",
   "execution_count": 6,
   "metadata": {
    "collapsed": true
   },
   "outputs": [],
   "source": [
    "hello = tf.constant(\"Hello \")"
   ]
  },
  {
   "cell_type": "code",
   "execution_count": 7,
   "metadata": {
    "collapsed": true
   },
   "outputs": [],
   "source": [
    "world = tf.constant(\"World\")"
   ]
  },
  {
   "cell_type": "code",
   "execution_count": 9,
   "metadata": {},
   "outputs": [
    {
     "data": {
      "text/plain": [
       "tensorflow.python.framework.ops.Tensor"
      ]
     },
     "execution_count": 9,
     "metadata": {},
     "output_type": "execute_result"
    }
   ],
   "source": [
    "type(hello)"
   ]
  },
  {
   "cell_type": "code",
   "execution_count": 10,
   "metadata": {
    "collapsed": true
   },
   "outputs": [],
   "source": [
    "with tf.Session() as sess:\n",
    "    result = sess.run(hello + world)\n",
    "    "
   ]
  },
  {
   "cell_type": "code",
   "execution_count": 11,
   "metadata": {},
   "outputs": [
    {
     "name": "stdout",
     "output_type": "stream",
     "text": [
      "Hello world\n"
     ]
    }
   ],
   "source": [
    "print('Hello world')"
   ]
  },
  {
   "cell_type": "code",
   "execution_count": 12,
   "metadata": {
    "collapsed": true
   },
   "outputs": [],
   "source": [
    "a = tf.constant(10)"
   ]
  },
  {
   "cell_type": "code",
   "execution_count": 13,
   "metadata": {
    "collapsed": true
   },
   "outputs": [],
   "source": [
    "b = tf.constant(20)"
   ]
  },
  {
   "cell_type": "code",
   "execution_count": 14,
   "metadata": {},
   "outputs": [
    {
     "data": {
      "text/plain": [
       "tensorflow.python.framework.ops.Tensor"
      ]
     },
     "execution_count": 14,
     "metadata": {},
     "output_type": "execute_result"
    }
   ],
   "source": [
    "type(a)"
   ]
  },
  {
   "cell_type": "code",
   "execution_count": 15,
   "metadata": {},
   "outputs": [
    {
     "data": {
      "text/plain": [
       "<tf.Tensor 'add_1:0' shape=() dtype=int32>"
      ]
     },
     "execution_count": 15,
     "metadata": {},
     "output_type": "execute_result"
    }
   ],
   "source": [
    "a + b"
   ]
  },
  {
   "cell_type": "code",
   "execution_count": 16,
   "metadata": {},
   "outputs": [
    {
     "data": {
      "text/plain": [
       "<tf.Tensor 'add_2:0' shape=() dtype=int32>"
      ]
     },
     "execution_count": 16,
     "metadata": {},
     "output_type": "execute_result"
    }
   ],
   "source": [
    "a + b"
   ]
  },
  {
   "cell_type": "code",
   "execution_count": 17,
   "metadata": {
    "collapsed": true
   },
   "outputs": [],
   "source": [
    "with tf.Session() as sess:\n",
    "    result = sess.run(a+b)"
   ]
  },
  {
   "cell_type": "code",
   "execution_count": null,
   "metadata": {
    "collapsed": true
   },
   "outputs": [],
   "source": []
  },
  {
   "cell_type": "code",
   "execution_count": 18,
   "metadata": {},
   "outputs": [
    {
     "data": {
      "text/plain": [
       "30"
      ]
     },
     "execution_count": 18,
     "metadata": {},
     "output_type": "execute_result"
    }
   ],
   "source": [
    "result"
   ]
  },
  {
   "cell_type": "code",
   "execution_count": 19,
   "metadata": {
    "collapsed": true
   },
   "outputs": [],
   "source": [
    "const = tf.constant(10)"
   ]
  },
  {
   "cell_type": "code",
   "execution_count": 20,
   "metadata": {
    "collapsed": true
   },
   "outputs": [],
   "source": [
    "fill_mat = tf.fill((4,4),10)"
   ]
  },
  {
   "cell_type": "code",
   "execution_count": 22,
   "metadata": {},
   "outputs": [],
   "source": [
    "myzeros = tf.zeros((4,4))"
   ]
  },
  {
   "cell_type": "code",
   "execution_count": 23,
   "metadata": {
    "collapsed": true
   },
   "outputs": [],
   "source": [
    "myones = tf.ones((4,4))"
   ]
  },
  {
   "cell_type": "code",
   "execution_count": 24,
   "metadata": {
    "collapsed": true
   },
   "outputs": [],
   "source": [
    "myrandn = tf.random_normal((4,4),mean=0,stddev=1.0)"
   ]
  },
  {
   "cell_type": "code",
   "execution_count": 25,
   "metadata": {
    "collapsed": true
   },
   "outputs": [],
   "source": [
    "myrandu = tf.random_uniform((4,4),minval =0 , maxval = 1)"
   ]
  },
  {
   "cell_type": "code",
   "execution_count": 26,
   "metadata": {
    "collapsed": true
   },
   "outputs": [],
   "source": [
    "my_ops = [const,fill_mat,myzeros,myones,myrandu,myrandu]"
   ]
  },
  {
   "cell_type": "code",
   "execution_count": 27,
   "metadata": {
    "collapsed": true
   },
   "outputs": [],
   "source": [
    "sess = tf.InteractiveSession()"
   ]
  },
  {
   "cell_type": "code",
   "execution_count": 29,
   "metadata": {},
   "outputs": [
    {
     "name": "stdout",
     "output_type": "stream",
     "text": [
      "[10, array([[10, 10, 10, 10],\n",
      "       [10, 10, 10, 10],\n",
      "       [10, 10, 10, 10],\n",
      "       [10, 10, 10, 10]]), array([[ 0.,  0.,  0.,  0.],\n",
      "       [ 0.,  0.,  0.,  0.],\n",
      "       [ 0.,  0.,  0.,  0.],\n",
      "       [ 0.,  0.,  0.,  0.]], dtype=float32), array([[ 1.,  1.,  1.,  1.],\n",
      "       [ 1.,  1.,  1.,  1.],\n",
      "       [ 1.,  1.,  1.,  1.],\n",
      "       [ 1.,  1.,  1.,  1.]], dtype=float32), array([[ 0.52665532,  0.76225722,  0.35178542,  0.43653333],\n",
      "       [ 0.0130316 ,  0.94605696,  0.01710832,  0.282969  ],\n",
      "       [ 0.36628282,  0.15224755,  0.52005124,  0.34603763],\n",
      "       [ 0.93449104,  0.7208761 ,  0.81434035,  0.49552751]], dtype=float32), array([[ 0.52665532,  0.76225722,  0.35178542,  0.43653333],\n",
      "       [ 0.0130316 ,  0.94605696,  0.01710832,  0.282969  ],\n",
      "       [ 0.36628282,  0.15224755,  0.52005124,  0.34603763],\n",
      "       [ 0.93449104,  0.7208761 ,  0.81434035,  0.49552751]], dtype=float32)]\n",
      "\n",
      "\n",
      "[10, array([[10, 10, 10, 10],\n",
      "       [10, 10, 10, 10],\n",
      "       [10, 10, 10, 10],\n",
      "       [10, 10, 10, 10]]), array([[ 0.,  0.,  0.,  0.],\n",
      "       [ 0.,  0.,  0.,  0.],\n",
      "       [ 0.,  0.,  0.,  0.],\n",
      "       [ 0.,  0.,  0.,  0.]], dtype=float32), array([[ 1.,  1.,  1.,  1.],\n",
      "       [ 1.,  1.,  1.,  1.],\n",
      "       [ 1.,  1.,  1.,  1.],\n",
      "       [ 1.,  1.,  1.,  1.]], dtype=float32), array([[ 0.44096959,  0.06843472,  0.3483963 ,  0.36913526],\n",
      "       [ 0.29578507,  0.05856669,  0.44160843,  0.85913408],\n",
      "       [ 0.43555307,  0.21085787,  0.8216995 ,  0.89730203],\n",
      "       [ 0.31255221,  0.58758569,  0.36593795,  0.07316494]], dtype=float32), array([[ 0.44096959,  0.06843472,  0.3483963 ,  0.36913526],\n",
      "       [ 0.29578507,  0.05856669,  0.44160843,  0.85913408],\n",
      "       [ 0.43555307,  0.21085787,  0.8216995 ,  0.89730203],\n",
      "       [ 0.31255221,  0.58758569,  0.36593795,  0.07316494]], dtype=float32)]\n",
      "\n",
      "\n",
      "[10, array([[10, 10, 10, 10],\n",
      "       [10, 10, 10, 10],\n",
      "       [10, 10, 10, 10],\n",
      "       [10, 10, 10, 10]]), array([[ 0.,  0.,  0.,  0.],\n",
      "       [ 0.,  0.,  0.,  0.],\n",
      "       [ 0.,  0.,  0.,  0.],\n",
      "       [ 0.,  0.,  0.,  0.]], dtype=float32), array([[ 1.,  1.,  1.,  1.],\n",
      "       [ 1.,  1.,  1.,  1.],\n",
      "       [ 1.,  1.,  1.,  1.],\n",
      "       [ 1.,  1.,  1.,  1.]], dtype=float32), array([[ 0.81117451,  0.3457123 ,  0.91799486,  0.29813421],\n",
      "       [ 0.10675406,  0.55569756,  0.52428937,  0.18303001],\n",
      "       [ 0.40401387,  0.0919013 ,  0.05900276,  0.06659102],\n",
      "       [ 0.21493566,  0.55005968,  0.12402213,  0.96895421]], dtype=float32), array([[ 0.81117451,  0.3457123 ,  0.91799486,  0.29813421],\n",
      "       [ 0.10675406,  0.55569756,  0.52428937,  0.18303001],\n",
      "       [ 0.40401387,  0.0919013 ,  0.05900276,  0.06659102],\n",
      "       [ 0.21493566,  0.55005968,  0.12402213,  0.96895421]], dtype=float32)]\n",
      "\n",
      "\n",
      "[10, array([[10, 10, 10, 10],\n",
      "       [10, 10, 10, 10],\n",
      "       [10, 10, 10, 10],\n",
      "       [10, 10, 10, 10]]), array([[ 0.,  0.,  0.,  0.],\n",
      "       [ 0.,  0.,  0.,  0.],\n",
      "       [ 0.,  0.,  0.,  0.],\n",
      "       [ 0.,  0.,  0.,  0.]], dtype=float32), array([[ 1.,  1.,  1.,  1.],\n",
      "       [ 1.,  1.,  1.,  1.],\n",
      "       [ 1.,  1.,  1.,  1.],\n",
      "       [ 1.,  1.,  1.,  1.]], dtype=float32), array([[ 0.47127652,  0.5915134 ,  0.01804066,  0.00756359],\n",
      "       [ 0.49150157,  0.99074638,  0.38535142,  0.66925049],\n",
      "       [ 0.35244453,  0.53677225,  0.86616242,  0.67566347],\n",
      "       [ 0.44726658,  0.53900325,  0.5024972 ,  0.59436226]], dtype=float32), array([[ 0.47127652,  0.5915134 ,  0.01804066,  0.00756359],\n",
      "       [ 0.49150157,  0.99074638,  0.38535142,  0.66925049],\n",
      "       [ 0.35244453,  0.53677225,  0.86616242,  0.67566347],\n",
      "       [ 0.44726658,  0.53900325,  0.5024972 ,  0.59436226]], dtype=float32)]\n",
      "\n",
      "\n",
      "[10, array([[10, 10, 10, 10],\n",
      "       [10, 10, 10, 10],\n",
      "       [10, 10, 10, 10],\n",
      "       [10, 10, 10, 10]]), array([[ 0.,  0.,  0.,  0.],\n",
      "       [ 0.,  0.,  0.,  0.],\n",
      "       [ 0.,  0.,  0.,  0.],\n",
      "       [ 0.,  0.,  0.,  0.]], dtype=float32), array([[ 1.,  1.,  1.,  1.],\n",
      "       [ 1.,  1.,  1.,  1.],\n",
      "       [ 1.,  1.,  1.,  1.],\n",
      "       [ 1.,  1.,  1.,  1.]], dtype=float32), array([[ 0.30926657,  0.63519299,  0.5526427 ,  0.11562657],\n",
      "       [ 0.72224903,  0.79794586,  0.21602881,  0.08218777],\n",
      "       [ 0.97385633,  0.44686687,  0.12145162,  0.16189945],\n",
      "       [ 0.00145614,  0.36911726,  0.80400586,  0.8784622 ]], dtype=float32), array([[ 0.30926657,  0.63519299,  0.5526427 ,  0.11562657],\n",
      "       [ 0.72224903,  0.79794586,  0.21602881,  0.08218777],\n",
      "       [ 0.97385633,  0.44686687,  0.12145162,  0.16189945],\n",
      "       [ 0.00145614,  0.36911726,  0.80400586,  0.8784622 ]], dtype=float32)]\n",
      "\n",
      "\n",
      "[10, array([[10, 10, 10, 10],\n",
      "       [10, 10, 10, 10],\n",
      "       [10, 10, 10, 10],\n",
      "       [10, 10, 10, 10]]), array([[ 0.,  0.,  0.,  0.],\n",
      "       [ 0.,  0.,  0.,  0.],\n",
      "       [ 0.,  0.,  0.,  0.],\n",
      "       [ 0.,  0.,  0.,  0.]], dtype=float32), array([[ 1.,  1.,  1.,  1.],\n",
      "       [ 1.,  1.,  1.,  1.],\n",
      "       [ 1.,  1.,  1.,  1.],\n",
      "       [ 1.,  1.,  1.,  1.]], dtype=float32), array([[ 0.10080457,  0.32596791,  0.21725106,  0.65924597],\n",
      "       [ 0.99061239,  0.88046157,  0.17708158,  0.29611504],\n",
      "       [ 0.44998538,  0.34784961,  0.31298852,  0.28743601],\n",
      "       [ 0.34240019,  0.74660957,  0.72333133,  0.04069936]], dtype=float32), array([[ 0.10080457,  0.32596791,  0.21725106,  0.65924597],\n",
      "       [ 0.99061239,  0.88046157,  0.17708158,  0.29611504],\n",
      "       [ 0.44998538,  0.34784961,  0.31298852,  0.28743601],\n",
      "       [ 0.34240019,  0.74660957,  0.72333133,  0.04069936]], dtype=float32)]\n",
      "\n",
      "\n"
     ]
    }
   ],
   "source": [
    "for op in my_ops:\n",
    "    print(sess.run(my_ops))\n",
    "    print('\\n')"
   ]
  },
  {
   "cell_type": "code",
   "execution_count": 30,
   "metadata": {},
   "outputs": [
    {
     "name": "stdout",
     "output_type": "stream",
     "text": [
      "<bound method Tensor.eval of <tf.Tensor 'Const_4:0' shape=() dtype=int32>>\n",
      "\n",
      "\n",
      "<bound method Tensor.eval of <tf.Tensor 'Fill:0' shape=(4, 4) dtype=int32>>\n",
      "\n",
      "\n",
      "<bound method Tensor.eval of <tf.Tensor 'zeros:0' shape=(4, 4) dtype=float32>>\n",
      "\n",
      "\n",
      "<bound method Tensor.eval of <tf.Tensor 'ones:0' shape=(4, 4) dtype=float32>>\n",
      "\n",
      "\n",
      "<bound method Tensor.eval of <tf.Tensor 'random_uniform:0' shape=(4, 4) dtype=float32>>\n",
      "\n",
      "\n",
      "<bound method Tensor.eval of <tf.Tensor 'random_uniform:0' shape=(4, 4) dtype=float32>>\n",
      "\n",
      "\n"
     ]
    }
   ],
   "source": [
    "for op in my_ops:\n",
    "    print(op.eval)\n",
    "    print('\\n')"
   ]
  },
  {
   "cell_type": "markdown",
   "metadata": {},
   "source": [
    "## Matrix Multiplication"
   ]
  },
  {
   "cell_type": "code",
   "execution_count": 31,
   "metadata": {
    "collapsed": true
   },
   "outputs": [],
   "source": [
    "a = tf.constant([ [1,2],\n",
    "                  [3,4] ])"
   ]
  },
  {
   "cell_type": "code",
   "execution_count": 32,
   "metadata": {},
   "outputs": [
    {
     "data": {
      "text/plain": [
       "TensorShape([Dimension(2), Dimension(2)])"
      ]
     },
     "execution_count": 32,
     "metadata": {},
     "output_type": "execute_result"
    }
   ],
   "source": [
    "a.get_shape()"
   ]
  },
  {
   "cell_type": "code",
   "execution_count": 33,
   "metadata": {
    "collapsed": true
   },
   "outputs": [],
   "source": [
    "b = tf.constant([ [10] , [100] ] )"
   ]
  },
  {
   "cell_type": "code",
   "execution_count": 34,
   "metadata": {},
   "outputs": [
    {
     "data": {
      "text/plain": [
       "TensorShape([Dimension(2), Dimension(1)])"
      ]
     },
     "execution_count": 34,
     "metadata": {},
     "output_type": "execute_result"
    }
   ],
   "source": [
    "b.get_shape()"
   ]
  },
  {
   "cell_type": "code",
   "execution_count": 35,
   "metadata": {
    "collapsed": true
   },
   "outputs": [],
   "source": [
    "result = tf.matmul(a,b)"
   ]
  },
  {
   "cell_type": "code",
   "execution_count": 37,
   "metadata": {},
   "outputs": [
    {
     "data": {
      "text/plain": [
       "array([[210],\n",
       "       [430]])"
      ]
     },
     "execution_count": 37,
     "metadata": {},
     "output_type": "execute_result"
    }
   ],
   "source": [
    "sess.run(result)"
   ]
  }
 ],
 "metadata": {
  "kernelspec": {
   "display_name": "Python 3",
   "language": "python",
   "name": "python3"
  },
  "language_info": {
   "codemirror_mode": {
    "name": "ipython",
    "version": 3
   },
   "file_extension": ".py",
   "mimetype": "text/x-python",
   "name": "python",
   "nbconvert_exporter": "python",
   "pygments_lexer": "ipython3",
   "version": "3.5.4"
  }
 },
 "nbformat": 4,
 "nbformat_minor": 2
}
